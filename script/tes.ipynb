{
 "cells": [
  {
   "cell_type": "code",
   "execution_count": 1,
   "metadata": {},
   "outputs": [
    {
     "name": "stdout",
     "output_type": "stream",
     "text": [
      "Running on GPU: NVIDIA GeForce RTX 3050 Ti Laptop GPU\n",
      "Current device: cuda\n"
     ]
    }
   ],
   "source": [
    "import torch\n",
    "\n",
    "# Memeriksa apakah GPU tersedia\n",
    "if torch.cuda.is_available():\n",
    "    device = torch.device(\"cuda\")  # Menggunakan GPU\n",
    "    print(\"Running on GPU:\", torch.cuda.get_device_name(0))  # Menampilkan nama GPU\n",
    "else:\n",
    "    device = torch.device(\"cpu\")  # Menggunakan CPU\n",
    "    print(\"Running on CPU\")\n",
    "\n",
    "# Menampilkan device yang digunakan\n",
    "print(\"Current device:\", device)"
   ]
  },
  {
   "cell_type": "code",
   "execution_count": 1,
   "metadata": {},
   "outputs": [
    {
     "name": "stdout",
     "output_type": "stream",
     "text": [
      "WARNING:tensorflow:From C:\\Users\\mfauz\\AppData\\Local\\Temp\\ipykernel_32272\\3898004413.py:5: is_gpu_available (from tensorflow.python.framework.test_util) is deprecated and will be removed in a future version.\n",
      "Instructions for updating:\n",
      "Use `tf.config.list_physical_devices('GPU')` instead.\n"
     ]
    },
    {
     "data": {
      "text/plain": [
       "True"
      ]
     },
     "execution_count": 1,
     "metadata": {},
     "output_type": "execute_result"
    }
   ],
   "source": [
    "import tensorflow as tf\n",
    "\n",
    "tf.config.list_physical_devices('GPU')\n",
    "\n",
    "tf.test.is_gpu_available()"
   ]
  },
  {
   "cell_type": "code",
   "execution_count": 2,
   "metadata": {},
   "outputs": [
    {
     "name": "stdout",
     "output_type": "stream",
     "text": [
      "1.26.4\n",
      "2.2.2\n"
     ]
    }
   ],
   "source": [
    "import numpy as np\n",
    "import pandas as pd\n",
    "\n",
    "print(np.__version__)\n",
    "print(pd.__version__)\n"
   ]
  },
  {
   "cell_type": "markdown",
   "metadata": {},
   "source": [
    "LSTM"
   ]
  },
  {
   "cell_type": "code",
   "execution_count": null,
   "metadata": {},
   "outputs": [],
   "source": [
    "# Hyperparameters\n",
    "embedding_dim = 1536  # Dimensi embedding gabungan (768 + 768 dari c1 dan c2)\n",
    "lstm1_dim = 126       # Jumlah unit pada LSTM pertama\n",
    "lstm2_dim = 64       # Jumlah unit pada LSTM kedua\n",
    "dense_dim = 64       # Jumlah unit pada lapisan Dense\n",
    "dense_dim2 = 32       # Jumlah unit pada lapisan Dense\n",
    "batch_size = 64      # Ukuran batch\n",
    "num_epochs = 10      # Jumlah epochs\n",
    "\n",
    "# Contoh input: random input array (gantilah dengan dataset sebenarnya)\n",
    "# random_input = np.random.rand(batch_size, timesteps, features)\n",
    "\n",
    "# Membangun model dengan Bidirectional LSTM\n",
    "model = tf.keras.Sequential([\n",
    "    tf.keras.layers.Input(shape=(None, embedding_dim)),  # Input layer\n",
    "    tf.keras.layers.Bidirectional(tf.keras.layers.LSTM(lstm1_dim, return_sequences=True)),  # LSTM 1\n",
    "    tf.keras.layers.Bidirectional(tf.keras.layers.LSTM(lstm2_dim)),  # LSTM 2\n",
    "    tf.keras.layers.Dense(dense_dim, activation='relu'),  # Dense layer\n",
    "    tf.keras.layers.Dense(dense_dim2, activation='relu'),  # Dense layer\n",
    "    tf.keras.layers.Dropout(0.5),  # Dropout layer untuk regularisasi\n",
    "    tf.keras.layers.Dense(1, activation='sigmoid')  # Output layer untuk binary classification\n",
    "])\n",
    "\n",
    "# Melihat ringkasan model\n",
    "model.summary()\n",
    "\n",
    "# Kompilasi model\n",
    "model.compile(optimizer='adam', loss='binary_crossentropy', metrics=['accuracy'])\n",
    "\n",
    "\n",
    "# Definisikan EarlyStopping\n",
    "early_stopping = EarlyStopping(monitor='val_loss', patience=3, restore_best_weights=True)\n",
    "\n",
    "# Melatih model dengan callback EarlyStopping\n",
    "history = model.fit(X_train, y_train, \n",
    "                    epochs=num_epochs, \n",
    "                    batch_size=batch_size, \n",
    "                    validation_data=(X_test, y_test), \n",
    "                    callbacks=[early_stopping])"
   ]
  }
 ],
 "metadata": {
  "kernelspec": {
   "display_name": "company-matching",
   "language": "python",
   "name": "python3"
  },
  "language_info": {
   "codemirror_mode": {
    "name": "ipython",
    "version": 3
   },
   "file_extension": ".py",
   "mimetype": "text/x-python",
   "name": "python",
   "nbconvert_exporter": "python",
   "pygments_lexer": "ipython3",
   "version": "3.10.14"
  }
 },
 "nbformat": 4,
 "nbformat_minor": 2
}
