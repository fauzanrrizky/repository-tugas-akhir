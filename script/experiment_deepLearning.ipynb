{
 "cells": [
  {
   "cell_type": "code",
   "execution_count": 6,
   "metadata": {},
   "outputs": [],
   "source": [
    "import pandas as pd\n",
    "import Levenshtein\n",
    "import numpy as np\n",
    "from sklearn.model_selection import train_test_split\n",
    "from sklearn.tree import DecisionTreeClassifier\n",
    "from sklearn.metrics import classification_report\n",
    "from sklearn.metrics import jaccard_score\n",
    "from sklearn.preprocessing import MultiLabelBinarizer\n",
    "from fuzzywuzzy import fuzz\n",
    "from xgboost import XGBClassifier\n",
    "from sklearn.ensemble import RandomForestClassifier\n",
    "from transformers import BertForSequenceClassification, AdamW, BertTokenizer\n",
    "import torch\n",
    "from torch.utils.data import Dataset, DataLoader"
   ]
  },
  {
   "cell_type": "code",
   "execution_count": 7,
   "metadata": {},
   "outputs": [],
   "source": [
    "import tensorflow as tf\n",
    "from tensorflow.keras.models import Sequential\n",
    "from tensorflow.keras.layers import LSTM, Dense, Dropout\n",
    "from tensorflow.keras.callbacks import EarlyStopping"
   ]
  },
  {
   "cell_type": "code",
   "execution_count": 8,
   "metadata": {},
   "outputs": [],
   "source": [
    "data = pd.read_json('../data/final_data/temp.jsonl', lines=True)"
   ]
  },
  {
   "cell_type": "markdown",
   "metadata": {},
   "source": [
    "# No Context"
   ]
  },
  {
   "cell_type": "code",
   "execution_count": 9,
   "metadata": {},
   "outputs": [],
   "source": [
    "deep_learning_no_context = data[['c1', 'c2', 'c1_embedding', 'c2_embedding', 'cosine_similarity', 'match']]"
   ]
  },
  {
   "cell_type": "markdown",
   "metadata": {},
   "source": [
    "## LSTM Model with BERT Embedding"
   ]
  },
  {
   "cell_type": "markdown",
   "metadata": {},
   "source": [
    "Preprocessing"
   ]
  },
  {
   "cell_type": "code",
   "execution_count": 10,
   "metadata": {},
   "outputs": [
    {
     "name": "stdout",
     "output_type": "stream",
     "text": [
      "X_train shape: (18587, 1, 1536), y_train shape: (18587,)\n",
      "X_test shape: (4647, 1, 1536), y_test shape: (4647,)\n"
     ]
    }
   ],
   "source": [
    "import pandas as pd\n",
    "import numpy as np\n",
    "from sklearn.model_selection import train_test_split\n",
    "\n",
    "# Membaca data ke dalam DataFrame (ganti dengan path Anda)\n",
    "df = deep_learning_no_context.copy()\n",
    "\n",
    "# Gabungkan embedding c1 dan c2 menjadi satu array sebagai input fitur\n",
    "X = np.array([np.concatenate((np.array(c1), np.array(c2)), axis=1) for c1, c2 in zip(df['c1_embedding'], df['c2_embedding'])])\n",
    "\n",
    "# Gunakan kolom 'match' sebagai label (target)\n",
    "y = df['match'].values\n",
    "\n",
    "# Split data menjadi train dan test set\n",
    "X_train, X_test, y_train, y_test = train_test_split(X, y, test_size=0.2, random_state=42)\n",
    "\n",
    "# Pastikan data dalam bentuk numpy array\n",
    "X_train = np.array(X_train)\n",
    "X_test = np.array(X_test)\n",
    "y_train = np.array(y_train)\n",
    "y_test = np.array(y_test)\n",
    "\n",
    "# Cetak bentuk data untuk memastikan semuanya benar\n",
    "print(f\"X_train shape: {X_train.shape}, y_train shape: {y_train.shape}\")\n",
    "print(f\"X_test shape: {X_test.shape}, y_test shape: {y_test.shape}\")"
   ]
  },
  {
   "cell_type": "markdown",
   "metadata": {},
   "source": [
    "Buat model LSTM"
   ]
  },
  {
   "cell_type": "code",
   "execution_count": 11,
   "metadata": {},
   "outputs": [
    {
     "name": "stdout",
     "output_type": "stream",
     "text": [
      "Model: \"sequential\"\n",
      "_________________________________________________________________\n",
      " Layer (type)                Output Shape              Param #   \n",
      "=================================================================\n",
      " lstm (LSTM)                 (None, 64)                409856    \n",
      "                                                                 \n",
      " dense (Dense)               (None, 64)                4160      \n",
      "                                                                 \n",
      " dense_1 (Dense)             (None, 1)                 65        \n",
      "                                                                 \n",
      "=================================================================\n",
      "Total params: 414,081\n",
      "Trainable params: 414,081\n",
      "Non-trainable params: 0\n",
      "_________________________________________________________________\n",
      "Epoch 1/10\n",
      "581/581 [==============================] - 52s 39ms/step - loss: 0.6082 - accuracy: 0.6607 - val_loss: 0.6519 - val_accuracy: 0.6449\n",
      "Epoch 2/10\n",
      "581/581 [==============================] - 26s 45ms/step - loss: 0.5515 - accuracy: 0.7145 - val_loss: 0.5445 - val_accuracy: 0.7237\n",
      "Epoch 3/10\n",
      "581/581 [==============================] - 26s 45ms/step - loss: 0.5171 - accuracy: 0.7445 - val_loss: 0.5272 - val_accuracy: 0.7390\n",
      "Epoch 4/10\n",
      "581/581 [==============================] - 19s 32ms/step - loss: 0.4847 - accuracy: 0.7647 - val_loss: 0.5201 - val_accuracy: 0.7424\n",
      "Epoch 5/10\n",
      "581/581 [==============================] - 26s 45ms/step - loss: 0.4576 - accuracy: 0.7826 - val_loss: 0.5200 - val_accuracy: 0.7527\n",
      "Epoch 6/10\n",
      "581/581 [==============================] - 19s 32ms/step - loss: 0.4268 - accuracy: 0.8015 - val_loss: 0.5263 - val_accuracy: 0.7543\n",
      "Epoch 7/10\n",
      "581/581 [==============================] - 21s 37ms/step - loss: 0.3972 - accuracy: 0.8180 - val_loss: 0.5243 - val_accuracy: 0.7527\n",
      "Epoch 8/10\n",
      "581/581 [==============================] - 21s 36ms/step - loss: 0.3690 - accuracy: 0.8333 - val_loss: 0.5197 - val_accuracy: 0.7629\n",
      "Epoch 9/10\n",
      "581/581 [==============================] - 21s 36ms/step - loss: 0.3402 - accuracy: 0.8484 - val_loss: 0.5286 - val_accuracy: 0.7626\n",
      "Epoch 10/10\n",
      "581/581 [==============================] - 20s 34ms/step - loss: 0.3145 - accuracy: 0.8631 - val_loss: 0.5652 - val_accuracy: 0.7607\n",
      "146/146 [==============================] - 4s 25ms/step - loss: 0.5652 - accuracy: 0.7607\n",
      "Test Accuracy: 0.760705828666687\n"
     ]
    }
   ],
   "source": [
    "import tensorflow as tf\n",
    "from tensorflow.keras.callbacks import EarlyStopping\n",
    "\n",
    "# Hyperparameters\n",
    "embedding_dim = 1536  # Dimensi embedding gabungan dari c1_embedding dan c2_embedding\n",
    "lstm_dim = 64         # Jumlah unit pada LSTM\n",
    "dense_dim = 64        # Jumlah unit pada Dense layer\n",
    "batch_size = 32       # Ukuran batch\n",
    "num_epochs = 10       # Jumlah epochs\n",
    "\n",
    "# Callback Early Stopping\n",
    "early_stopping = EarlyStopping(monitor='val_loss', patience=3, restore_best_weights=True)\n",
    "\n",
    "# Membangun model dengan Single LSTM\n",
    "model = tf.keras.Sequential([\n",
    "    # Single LSTM layer\n",
    "    tf.keras.layers.LSTM(lstm_dim, input_shape=(None, embedding_dim)),\n",
    "    \n",
    "    # Fully connected Dense layer\n",
    "    tf.keras.layers.Dense(dense_dim, activation='relu'),\n",
    "    \n",
    "    # Output layer for binary classification\n",
    "    tf.keras.layers.Dense(1, activation='sigmoid')\n",
    "])\n",
    "\n",
    "\n",
    "# Kompilasi model\n",
    "model.compile(optimizer='adam', loss='binary_crossentropy', metrics=['accuracy'])\n",
    "\n",
    "# Melihat ringkasan model\n",
    "model.summary()\n",
    "\n",
    "# Melatih model dengan Early Stopping\n",
    "history = model.fit(X_train, y_train, epochs=num_epochs, batch_size=batch_size,\n",
    "                    validation_data=(X_test, y_test), callbacks=[early_stopping])\n",
    "\n",
    "# Evaluasi model\n",
    "test_loss, test_acc = model.evaluate(X_test, y_test)\n",
    "print(f'Test Accuracy: {test_acc}')\n"
   ]
  },
  {
   "cell_type": "markdown",
   "metadata": {},
   "source": [
    "## Without BERT Embeddings"
   ]
  },
  {
   "cell_type": "markdown",
   "metadata": {},
   "source": [
    "Konversi string menjadi representasi numerik dimulai dengan tokenization, di mana setiap kata dalam teks diubah menjadi token angka berdasarkan kamus yang dibuat dari data. Setelah itu, padding diterapkan untuk memastikan semua urutan token memiliki panjang yang sama. Token ini kemudian dimasukkan ke dalam embedding layer, yang mengonversi angka-angka tersebut menjadi vektor berdimensi tetap yang dapat dipelajari oleh model. Vektor-vektor ini memungkinkan model seperti LSTM untuk memahami pola dan hubungan semantik dalam data teks, sehingga model dapat membuat prediksi berdasarkan representasi numerik ini."
   ]
  },
  {
   "cell_type": "code",
   "execution_count": 12,
   "metadata": {},
   "outputs": [],
   "source": [
    "deep_learning_no_context = data[['c1', 'c2', 'match']]"
   ]
  },
  {
   "cell_type": "code",
   "execution_count": 13,
   "metadata": {},
   "outputs": [
    {
     "data": {
      "text/html": [
       "<div>\n",
       "<style scoped>\n",
       "    .dataframe tbody tr th:only-of-type {\n",
       "        vertical-align: middle;\n",
       "    }\n",
       "\n",
       "    .dataframe tbody tr th {\n",
       "        vertical-align: top;\n",
       "    }\n",
       "\n",
       "    .dataframe thead th {\n",
       "        text-align: right;\n",
       "    }\n",
       "</style>\n",
       "<table border=\"1\" class=\"dataframe\">\n",
       "  <thead>\n",
       "    <tr style=\"text-align: right;\">\n",
       "      <th></th>\n",
       "      <th>c1</th>\n",
       "      <th>c2</th>\n",
       "      <th>match</th>\n",
       "    </tr>\n",
       "  </thead>\n",
       "  <tbody>\n",
       "    <tr>\n",
       "      <th>0</th>\n",
       "      <td>anz</td>\n",
       "      <td>ANZ</td>\n",
       "      <td>1</td>\n",
       "    </tr>\n",
       "    <tr>\n",
       "      <th>1</th>\n",
       "      <td>anz</td>\n",
       "      <td>Australian New Zealand Banking Group</td>\n",
       "      <td>1</td>\n",
       "    </tr>\n",
       "    <tr>\n",
       "      <th>2</th>\n",
       "      <td>anz</td>\n",
       "      <td>A.N.Z.</td>\n",
       "      <td>1</td>\n",
       "    </tr>\n",
       "    <tr>\n",
       "      <th>3</th>\n",
       "      <td>anz</td>\n",
       "      <td>ANZ Bank</td>\n",
       "      <td>1</td>\n",
       "    </tr>\n",
       "    <tr>\n",
       "      <th>4</th>\n",
       "      <td>anz</td>\n",
       "      <td>Anz</td>\n",
       "      <td>1</td>\n",
       "    </tr>\n",
       "    <tr>\n",
       "      <th>...</th>\n",
       "      <td>...</td>\n",
       "      <td>...</td>\n",
       "      <td>...</td>\n",
       "    </tr>\n",
       "    <tr>\n",
       "      <th>23229</th>\n",
       "      <td>aerotek</td>\n",
       "      <td>AeroVironment</td>\n",
       "      <td>0</td>\n",
       "    </tr>\n",
       "    <tr>\n",
       "      <th>23230</th>\n",
       "      <td>aerotek</td>\n",
       "      <td>Aeropostale</td>\n",
       "      <td>0</td>\n",
       "    </tr>\n",
       "    <tr>\n",
       "      <th>23231</th>\n",
       "      <td>michigan state university</td>\n",
       "      <td>Michigan Technological University</td>\n",
       "      <td>0</td>\n",
       "    </tr>\n",
       "    <tr>\n",
       "      <th>23232</th>\n",
       "      <td>michigan state university</td>\n",
       "      <td>Central Michigan University</td>\n",
       "      <td>0</td>\n",
       "    </tr>\n",
       "    <tr>\n",
       "      <th>23233</th>\n",
       "      <td>michigan state university</td>\n",
       "      <td>Michigan State Police</td>\n",
       "      <td>0</td>\n",
       "    </tr>\n",
       "  </tbody>\n",
       "</table>\n",
       "<p>23234 rows × 3 columns</p>\n",
       "</div>"
      ],
      "text/plain": [
       "                              c1                                    c2  match\n",
       "0                            anz                                   ANZ      1\n",
       "1                            anz  Australian New Zealand Banking Group      1\n",
       "2                            anz                                A.N.Z.      1\n",
       "3                            anz                              ANZ Bank      1\n",
       "4                            anz                                   Anz      1\n",
       "...                          ...                                   ...    ...\n",
       "23229                    aerotek                         AeroVironment      0\n",
       "23230                    aerotek                           Aeropostale      0\n",
       "23231  michigan state university     Michigan Technological University      0\n",
       "23232  michigan state university           Central Michigan University      0\n",
       "23233  michigan state university                 Michigan State Police      0\n",
       "\n",
       "[23234 rows x 3 columns]"
      ]
     },
     "execution_count": 13,
     "metadata": {},
     "output_type": "execute_result"
    }
   ],
   "source": [
    "deep_learning_no_context"
   ]
  },
  {
   "cell_type": "code",
   "execution_count": 14,
   "metadata": {},
   "outputs": [
    {
     "name": "stdout",
     "output_type": "stream",
     "text": [
      "X_train shape: (18587, 20), y_train shape: (18587,)\n",
      "X_test shape: (4647, 20), y_test shape: (4647,)\n"
     ]
    }
   ],
   "source": [
    "import numpy as np\n",
    "import tensorflow as tf\n",
    "from sklearn.model_selection import train_test_split\n",
    "from tensorflow.keras.preprocessing.text import Tokenizer\n",
    "from tensorflow.keras.preprocessing.sequence import pad_sequences\n",
    "\n",
    "# Data dari dataframe\n",
    "c1 = deep_learning_no_context['c1'].values\n",
    "c2 = deep_learning_no_context['c2'].values\n",
    "y = deep_learning_no_context['match'].values  # Label\n",
    "\n",
    "# Hyperparameters\n",
    "vocab_size = 10000   # Ukuran vocabulary untuk tokenizer\n",
    "embedding_dim = 64   # Dimensi embedding\n",
    "lstm_dim = 64        # Jumlah unit pada LSTM\n",
    "max_length = 10      # Maksimal panjang sekuens setelah padding\n",
    "padding_type = 'post'\n",
    "oov_tok = \"<OOV>\"    # Token untuk kata yang tidak ada di tokenizer\n",
    "\n",
    "# Tokenizer: mengubah string menjadi token\n",
    "tokenizer = Tokenizer(num_words=vocab_size, oov_token=oov_tok)\n",
    "tokenizer.fit_on_texts(c1 + c2)  # Fit tokenizer pada teks c1 dan c2\n",
    "\n",
    "# Mengubah c1 dan c2 menjadi token sequences\n",
    "c1_sequences = tokenizer.texts_to_sequences(c1)\n",
    "c2_sequences = tokenizer.texts_to_sequences(c2)\n",
    "\n",
    "# Padding sequences untuk membuat panjang sekuens sama\n",
    "c1_padded = pad_sequences(c1_sequences, maxlen=max_length, padding=padding_type)\n",
    "c2_padded = pad_sequences(c2_sequences, maxlen=max_length, padding=padding_type)\n",
    "\n",
    "# Gabungkan c1 dan c2 menjadi satu input untuk model\n",
    "X = np.hstack([c1_padded, c2_padded])\n",
    "\n",
    "# Split data menjadi train dan test set\n",
    "X_train, X_test, y_train, y_test = train_test_split(X, y, test_size=0.2, random_state=42)\n",
    "\n",
    "print(f\"X_train shape: {X_train.shape}, y_train shape: {y_train.shape}\")\n",
    "print(f\"X_test shape: {X_test.shape}, y_test shape: {y_test.shape}\")"
   ]
  },
  {
   "cell_type": "code",
   "execution_count": 15,
   "metadata": {},
   "outputs": [
    {
     "name": "stdout",
     "output_type": "stream",
     "text": [
      "Model: \"sequential_1\"\n",
      "_________________________________________________________________\n",
      " Layer (type)                Output Shape              Param #   \n",
      "=================================================================\n",
      " embedding (Embedding)       (None, 20, 64)            640000    \n",
      "                                                                 \n",
      " lstm_1 (LSTM)               (None, 64)                33024     \n",
      "                                                                 \n",
      " dense_2 (Dense)             (None, 64)                4160      \n",
      "                                                                 \n",
      " dropout (Dropout)           (None, 64)                0         \n",
      "                                                                 \n",
      " dense_3 (Dense)             (None, 1)                 65        \n",
      "                                                                 \n",
      "=================================================================\n",
      "Total params: 677,249\n",
      "Trainable params: 677,249\n",
      "Non-trainable params: 0\n",
      "_________________________________________________________________\n",
      "Epoch 1/10\n",
      "581/581 [==============================] - 35s 44ms/step - loss: 0.6430 - accuracy: 0.6061 - val_loss: 0.5768 - val_accuracy: 0.6639\n",
      "Epoch 2/10\n",
      "581/581 [==============================] - 20s 34ms/step - loss: 0.5289 - accuracy: 0.7194 - val_loss: 0.5486 - val_accuracy: 0.7039\n",
      "Epoch 3/10\n",
      "581/581 [==============================] - 23s 39ms/step - loss: 0.4604 - accuracy: 0.7613 - val_loss: 0.5500 - val_accuracy: 0.7067\n",
      "Epoch 4/10\n",
      "581/581 [==============================] - 20s 34ms/step - loss: 0.4161 - accuracy: 0.7815 - val_loss: 0.6098 - val_accuracy: 0.6951\n",
      "Epoch 5/10\n",
      "581/581 [==============================] - 22s 38ms/step - loss: 0.3823 - accuracy: 0.7964 - val_loss: 0.5735 - val_accuracy: 0.7147\n",
      "146/146 [==============================] - 1s 4ms/step - loss: 0.5486 - accuracy: 0.7039\n",
      "Test Accuracy: 0.7038949728012085\n"
     ]
    }
   ],
   "source": [
    "# Membangun model dengan LSTM\n",
    "model = tf.keras.Sequential([\n",
    "    # Embedding layer\n",
    "    tf.keras.layers.Embedding(vocab_size, embedding_dim, input_length=X_train.shape[1]),\n",
    "    \n",
    "    # LSTM layer\n",
    "    tf.keras.layers.LSTM(lstm_dim),\n",
    "    \n",
    "    # Fully connected Dense layer\n",
    "    tf.keras.layers.Dense(64, activation='relu'),\n",
    "    \n",
    "    # Dropout layer untuk regularisasi\n",
    "    tf.keras.layers.Dropout(0.5),\n",
    "    \n",
    "    # Output layer untuk binary classification\n",
    "    tf.keras.layers.Dense(1, activation='sigmoid')\n",
    "])\n",
    "\n",
    "# Callback Early Stopping\n",
    "early_stopping = EarlyStopping(monitor='val_loss', patience=3, restore_best_weights=True)\n",
    "\n",
    "# Kompilasi model\n",
    "model.compile(optimizer='adam', loss='binary_crossentropy', metrics=['accuracy'])\n",
    "\n",
    "# Melihat ringkasan model\n",
    "model.summary()\n",
    "\n",
    "# Melatih model\n",
    "history = model.fit(X_train, y_train, epochs=10, batch_size=32, validation_data=(X_test, y_test), callbacks=[early_stopping])\n",
    "\n",
    "# Evaluasi model\n",
    "test_loss, test_acc = model.evaluate(X_test, y_test)\n",
    "print(f'Test Accuracy: {test_acc}')"
   ]
  },
  {
   "cell_type": "markdown",
   "metadata": {},
   "source": [
    "# With Context"
   ]
  },
  {
   "cell_type": "markdown",
   "metadata": {},
   "source": [
    "## With BERT Embeddings"
   ]
  },
  {
   "cell_type": "code",
   "execution_count": 16,
   "metadata": {},
   "outputs": [],
   "source": [
    "deep_learning_with_context = data[['c1_context_embedding', 'c2_context_embedding', 'c1_embedding', 'c2_embedding', 'match']]"
   ]
  },
  {
   "cell_type": "code",
   "execution_count": 17,
   "metadata": {},
   "outputs": [
    {
     "name": "stdout",
     "output_type": "stream",
     "text": [
      "Shape of c1_embedding at index 0: (1, 768)\n",
      "Shape of c2_embedding at index 0: (1, 768)\n",
      "Shape of c1_context_embedding at index 0: (1, 768)\n",
      "Shape of c2_context_embedding at index 0: (1, 768)\n"
     ]
    }
   ],
   "source": [
    "# Misalnya, periksa shape dari c1_embedding di baris pertama\n",
    "print(f\"Shape of c1_embedding at index 0: {np.array(deep_learning_with_context['c1_embedding'][0]).shape}\")\n",
    "\n",
    "# Periksa shape dari c2_embedding di baris pertama\n",
    "print(f\"Shape of c2_embedding at index 0: {np.array(deep_learning_with_context['c2_embedding'][0]).shape}\")\n",
    "\n",
    "# Periksa shape dari c1_context_embedding di baris pertama\n",
    "print(f\"Shape of c1_context_embedding at index 0: {np.array(deep_learning_with_context['c1_context_embedding'][0]).shape}\")\n",
    "\n",
    "# Periksa shape dari c2_context_embedding di baris pertama\n",
    "print(f\"Shape of c2_context_embedding at index 0: {np.array(deep_learning_with_context['c2_context_embedding'][0]).shape}\")\n"
   ]
  },
  {
   "cell_type": "code",
   "execution_count": 18,
   "metadata": {},
   "outputs": [
    {
     "name": "stdout",
     "output_type": "stream",
     "text": [
      "X_train shape: (18587, 4, 768), y_train shape: (18587,)\n",
      "X_test shape: (4647, 4, 768), y_test shape: (4647,)\n"
     ]
    }
   ],
   "source": [
    "# Gabungkan context embedding dan original embedding\n",
    "X = np.array([np.concatenate((np.array(c1), np.array(c2), np.array(c1_context), np.array(c2_context)), axis=0) \n",
    "              for c1, c2, c1_context, c2_context in zip(deep_learning_with_context['c1_embedding'], deep_learning_with_context['c2_embedding'], deep_learning_with_context['c1_context_embedding'], deep_learning_with_context['c2_context_embedding'])])\n",
    "\n",
    "\n",
    "# Gunakan kolom 'match' sebagai label (target)\n",
    "y = deep_learning_with_context['match'].values\n",
    "\n",
    "# Split data menjadi train dan test set\n",
    "X_train, X_test, y_train, y_test = train_test_split(X, y, test_size=0.2, random_state=42)\n",
    "\n",
    "# Pastikan data dalam bentuk numpy array\n",
    "X_train = np.array(X_train)\n",
    "X_test = np.array(X_test)\n",
    "y_train = np.array(y_train)\n",
    "y_test = np.array(y_test)\n",
    "\n",
    "# Cetak bentuk data untuk memastikan semuanya benar\n",
    "print(f\"X_train shape: {X_train.shape}, y_train shape: {y_train.shape}\")\n",
    "print(f\"X_test shape: {X_test.shape}, y_test shape: {y_test.shape}\")"
   ]
  },
  {
   "cell_type": "code",
   "execution_count": 19,
   "metadata": {},
   "outputs": [
    {
     "name": "stdout",
     "output_type": "stream",
     "text": [
      "Model: \"sequential_2\"\n",
      "_________________________________________________________________\n",
      " Layer (type)                Output Shape              Param #   \n",
      "=================================================================\n",
      " lstm_2 (LSTM)               (None, 4, 128)            459264    \n",
      "                                                                 \n",
      " lstm_3 (LSTM)               (None, 128)               131584    \n",
      "                                                                 \n",
      " dense_4 (Dense)             (None, 64)                8256      \n",
      "                                                                 \n",
      " dropout_1 (Dropout)         (None, 64)                0         \n",
      "                                                                 \n",
      " dense_5 (Dense)             (None, 1)                 65        \n",
      "                                                                 \n",
      "=================================================================\n",
      "Total params: 599,169\n",
      "Trainable params: 599,169\n",
      "Non-trainable params: 0\n",
      "_________________________________________________________________\n",
      "Epoch 1/30\n",
      "581/581 [==============================] - 36s 56ms/step - loss: 0.4904 - accuracy: 0.7640 - val_loss: 0.3772 - val_accuracy: 0.8317\n",
      "Epoch 2/30\n",
      "581/581 [==============================] - 22s 39ms/step - loss: 0.3562 - accuracy: 0.8467 - val_loss: 0.3532 - val_accuracy: 0.8410\n",
      "Epoch 3/30\n",
      "581/581 [==============================] - 28s 48ms/step - loss: 0.2846 - accuracy: 0.8844 - val_loss: 0.2869 - val_accuracy: 0.8832\n",
      "Epoch 4/30\n",
      "581/581 [==============================] - 25s 44ms/step - loss: 0.2346 - accuracy: 0.9069 - val_loss: 0.3171 - val_accuracy: 0.8705\n",
      "Epoch 5/30\n",
      "581/581 [==============================] - 26s 45ms/step - loss: 0.1838 - accuracy: 0.9268 - val_loss: 0.2482 - val_accuracy: 0.9042\n",
      "Epoch 6/30\n",
      "581/581 [==============================] - 25s 43ms/step - loss: 0.1490 - accuracy: 0.9445 - val_loss: 0.2505 - val_accuracy: 0.9152\n",
      "Epoch 7/30\n",
      "581/581 [==============================] - 23s 40ms/step - loss: 0.1268 - accuracy: 0.9507 - val_loss: 0.2630 - val_accuracy: 0.9169\n",
      "Epoch 8/30\n",
      "581/581 [==============================] - 30s 51ms/step - loss: 0.1026 - accuracy: 0.9615 - val_loss: 0.2585 - val_accuracy: 0.9182\n",
      "146/146 [==============================] - 6s 40ms/step - loss: 0.2482 - accuracy: 0.9042\n",
      "Test Accuracy: 0.904239296913147\n"
     ]
    }
   ],
   "source": [
    "# Hyperparameters\n",
    "lstm_dim = 128        # Jumlah unit pada LSTM\n",
    "dense_dim = 64       # Jumlah unit pada Dense layer\n",
    "batch_size = 32      # Ukuran batch\n",
    "num_epochs = 30      # Jumlah epochs\n",
    "\n",
    "# Callback Early \n",
    "early_stopping = EarlyStopping(monitor='val_loss', patience=3, restore_best_weights=True)\n",
    "\n",
    "# Membangun model dengan LSTM (menggunakan Sequential API)\n",
    "model = tf.keras.Sequential([\n",
    "    # LSTM layer untuk memproses sequence dengan 4 timesteps dan 768 features\n",
    "    tf.keras.layers.LSTM(lstm_dim, return_sequences=True, input_shape=(X_train.shape[1], X_train.shape[2])),\n",
    "\n",
    "    # LSTM kedua\n",
    "    tf.keras.layers.LSTM(lstm_dim),\n",
    "    \n",
    "    # Fully connected Dense layer\n",
    "    tf.keras.layers.Dense(dense_dim, activation='relu'),\n",
    "    \n",
    "    # Dropout layer untuk regularisasi\n",
    "    tf.keras.layers.Dropout(0.5),\n",
    "    \n",
    "    # Output layer untuk binary classification\n",
    "    tf.keras.layers.Dense(1, activation='sigmoid')\n",
    "])\n",
    "\n",
    "\n",
    "# Coba BI-LSTM (Akurasi gak naik)\n",
    "# model = tf.keras.Sequential([    \n",
    "#     # Bidirectional LSTM pertama\n",
    "#     tf.keras.layers.Bidirectional(tf.keras.layers.LSTM(lstm_dim, return_sequences=True, input_shape=(X_train.shape[1], X_train.shape[2]))),\n",
    "    \n",
    "#     # Bidirectional LSTM kedua\n",
    "#     tf.keras.layers.Bidirectional(tf.keras.layers.LSTM(lstm_dim)),\n",
    "    \n",
    "#     # Fully connected Dense layer\n",
    "#     tf.keras.layers.Dense(dense_dim, activation='relu'),\n",
    "    \n",
    "#     # Dropout layer untuk regularisasi\n",
    "#     tf.keras.layers.Dropout(0.5),\n",
    "    \n",
    "#     # Output layer untuk binary classification\n",
    "#     tf.keras.layers.Dense(1, activation='sigmoid')\n",
    "# ])\n",
    "\n",
    "\n",
    "# optimizer = tf.keras.optimizers.RMSprop(learning_rate=0.001)\n",
    "\n",
    "# Kompilasi model\n",
    "model.compile(optimizer='adam', loss='binary_crossentropy', metrics=['accuracy'])\n",
    "\n",
    "# Melihat ringkasan model\n",
    "model.summary()\n",
    "\n",
    "# Callback Early Stopping\n",
    "early_stopping = EarlyStopping(monitor='val_loss', patience=3, restore_best_weights=True)\n",
    "\n",
    "# Melatih model dengan Early Stopping\n",
    "history = model.fit(X_train, y_train, epochs=num_epochs, batch_size=batch_size, validation_data=(X_test, y_test), callbacks=[early_stopping])\n",
    "\n",
    "# Evaluasi model\n",
    "test_loss, test_acc = model.evaluate(X_test, y_test)\n",
    "print(f'Test Accuracy: {test_acc}')"
   ]
  },
  {
   "cell_type": "markdown",
   "metadata": {},
   "source": [
    "## Without BERT Embeddings"
   ]
  },
  {
   "cell_type": "code",
   "execution_count": 20,
   "metadata": {},
   "outputs": [],
   "source": [
    "deep_learning_with_context = data[['c1_context', 'c2_context', 'c1', 'c2', 'match']]"
   ]
  },
  {
   "cell_type": "code",
   "execution_count": 21,
   "metadata": {},
   "outputs": [
    {
     "name": "stdout",
     "output_type": "stream",
     "text": [
      "X_train shape: (18587, 40), y_train shape: (18587,)\n",
      "X_test shape: (4647, 40), y_test shape: (4647,)\n"
     ]
    }
   ],
   "source": [
    "import numpy as np\n",
    "import tensorflow as tf\n",
    "from sklearn.model_selection import train_test_split\n",
    "from tensorflow.keras.preprocessing.text import Tokenizer\n",
    "from tensorflow.keras.preprocessing.sequence import pad_sequences\n",
    "from tensorflow.keras.callbacks import EarlyStopping\n",
    "from tensorflow.keras.layers import Input, LSTM, Embedding, Dense, Dropout, Concatenate\n",
    "\n",
    "# Data dari dataframe\n",
    "c1 = deep_learning_with_context['c1'].values\n",
    "c2 = deep_learning_with_context['c2'].values\n",
    "c1_context = deep_learning_with_context['c1_context'].values  # Kolom context string untuk c1\n",
    "c2_context = deep_learning_with_context['c2_context'].values  # Kolom context string untuk c2\n",
    "y = deep_learning_with_context['match'].values  # Label\n",
    "\n",
    "# Hyperparameters\n",
    "vocab_size = 10000   # Ukuran vocabulary untuk tokenizer\n",
    "embedding_dim = 64   # Dimensi embedding\n",
    "lstm_dim = 64        # Jumlah unit pada LSTM\n",
    "max_length = 10      # Maksimal panjang sekuens setelah padding\n",
    "padding_type = 'post'\n",
    "oov_tok = \"<OOV>\"    # Token untuk kata yang tidak ada di tokenizer\n",
    "\n",
    "# Tokenizer: mengubah string menjadi token\n",
    "tokenizer = Tokenizer(num_words=vocab_size, oov_token=oov_tok)\n",
    "tokenizer.fit_on_texts(np.concatenate((c1, c2, c1_context, c2_context)))  # Fit tokenizer pada teks c1, c2, c1_context, dan c2_context\n",
    "\n",
    "# Mengubah c1, c2, c1_context, dan c2_context menjadi token sequences\n",
    "c1_sequences = tokenizer.texts_to_sequences(c1)\n",
    "c2_sequences = tokenizer.texts_to_sequences(c2)\n",
    "c1_context_sequences = tokenizer.texts_to_sequences(c1_context)\n",
    "c2_context_sequences = tokenizer.texts_to_sequences(c2_context)\n",
    "\n",
    "# Padding sequences untuk membuat panjang sekuens sama\n",
    "c1_padded = pad_sequences(c1_sequences, maxlen=max_length, padding=padding_type)\n",
    "c2_padded = pad_sequences(c2_sequences, maxlen=max_length, padding=padding_type)\n",
    "c1_context_padded = pad_sequences(c1_context_sequences, maxlen=max_length, padding=padding_type)\n",
    "c2_context_padded = pad_sequences(c2_context_sequences, maxlen=max_length, padding=padding_type)\n",
    "\n",
    "# Split data menjadi train dan test set\n",
    "X_train_c1, X_test_c1, X_train_c2, X_test_c2, X_train_c1_context, X_test_c1_context, X_train_c2_context, X_test_c2_context, y_train, y_test = train_test_split(\n",
    "    c1_padded, c2_padded, c1_context_padded, c2_context_padded, y, test_size=0.2, random_state=42)\n",
    "\n",
    "# Gabungkan semua fitur menjadi satu array besar\n",
    "X_combined = np.concatenate([c1_padded, c2_padded, c1_context_padded, c2_context_padded], axis=1)\n",
    "\n",
    "# Split data menjadi train dan test set sekaligus\n",
    "X_train, X_test, y_train, y_test = train_test_split(X_combined, y, test_size=0.2, random_state=42)\n",
    "\n",
    "print(f\"X_train shape: {X_train.shape}, y_train shape: {y_train.shape}\")\n",
    "print(f\"X_test shape: {X_test.shape}, y_test shape: {y_test.shape}\")\n"
   ]
  },
  {
   "cell_type": "code",
   "execution_count": 22,
   "metadata": {},
   "outputs": [
    {
     "name": "stdout",
     "output_type": "stream",
     "text": [
      "Model: \"model\"\n",
      "__________________________________________________________________________________________________\n",
      " Layer (type)                   Output Shape         Param #     Connected to                     \n",
      "==================================================================================================\n",
      " input_1 (InputLayer)           [(None, 10)]         0           []                               \n",
      "                                                                                                  \n",
      " input_2 (InputLayer)           [(None, 10)]         0           []                               \n",
      "                                                                                                  \n",
      " input_3 (InputLayer)           [(None, 10)]         0           []                               \n",
      "                                                                                                  \n",
      " input_4 (InputLayer)           [(None, 10)]         0           []                               \n",
      "                                                                                                  \n",
      " embedding_1 (Embedding)        (None, 10, 64)       640000      ['input_1[0][0]']                \n",
      "                                                                                                  \n",
      " embedding_2 (Embedding)        (None, 10, 64)       640000      ['input_2[0][0]']                \n",
      "                                                                                                  \n",
      " embedding_3 (Embedding)        (None, 10, 64)       640000      ['input_3[0][0]']                \n",
      "                                                                                                  \n",
      " embedding_4 (Embedding)        (None, 10, 64)       640000      ['input_4[0][0]']                \n",
      "                                                                                                  \n",
      " lstm_4 (LSTM)                  (None, 64)           33024       ['embedding_1[0][0]']            \n",
      "                                                                                                  \n",
      " lstm_5 (LSTM)                  (None, 64)           33024       ['embedding_2[0][0]']            \n",
      "                                                                                                  \n",
      " lstm_6 (LSTM)                  (None, 64)           33024       ['embedding_3[0][0]']            \n",
      "                                                                                                  \n",
      " lstm_7 (LSTM)                  (None, 64)           33024       ['embedding_4[0][0]']            \n",
      "                                                                                                  \n",
      " concatenate (Concatenate)      (None, 256)          0           ['lstm_4[0][0]',                 \n",
      "                                                                  'lstm_5[0][0]',                 \n",
      "                                                                  'lstm_6[0][0]',                 \n",
      "                                                                  'lstm_7[0][0]']                 \n",
      "                                                                                                  \n",
      " dense_6 (Dense)                (None, 64)           16448       ['concatenate[0][0]']            \n",
      "                                                                                                  \n",
      " dropout_2 (Dropout)            (None, 64)           0           ['dense_6[0][0]']                \n",
      "                                                                                                  \n",
      " dense_7 (Dense)                (None, 1)            65          ['dropout_2[0][0]']              \n",
      "                                                                                                  \n",
      "==================================================================================================\n",
      "Total params: 2,708,609\n",
      "Trainable params: 2,708,609\n",
      "Non-trainable params: 0\n",
      "__________________________________________________________________________________________________\n",
      "Epoch 1/10\n",
      "581/581 [==============================] - 56s 85ms/step - loss: 0.4713 - accuracy: 0.7685 - val_loss: 0.2838 - val_accuracy: 0.8851\n",
      "Epoch 2/10\n",
      "581/581 [==============================] - 49s 85ms/step - loss: 0.1776 - accuracy: 0.9352 - val_loss: 0.1934 - val_accuracy: 0.9247\n",
      "Epoch 3/10\n",
      "581/581 [==============================] - 54s 93ms/step - loss: 0.0754 - accuracy: 0.9722 - val_loss: 0.1903 - val_accuracy: 0.9301\n",
      "Epoch 4/10\n",
      "581/581 [==============================] - 12s 20ms/step - loss: 0.0394 - accuracy: 0.9863 - val_loss: 0.2481 - val_accuracy: 0.9298\n",
      "Epoch 5/10\n",
      "581/581 [==============================] - 9s 16ms/step - loss: 0.0258 - accuracy: 0.9912 - val_loss: 0.2615 - val_accuracy: 0.9365\n",
      "Epoch 6/10\n",
      "581/581 [==============================] - 10s 18ms/step - loss: 0.0175 - accuracy: 0.9939 - val_loss: 0.3085 - val_accuracy: 0.9268\n",
      "146/146 [==============================] - 1s 7ms/step - loss: 0.1903 - accuracy: 0.9301\n",
      "Test Accuracy: 0.9300624132156372\n"
     ]
    }
   ],
   "source": [
    "# Membangun model dengan multiple input LSTM\n",
    "# Input untuk c1\n",
    "input_c1 = Input(shape=(max_length,))\n",
    "embedding_c1 = Embedding(vocab_size, embedding_dim)(input_c1)\n",
    "lstm_c1 = LSTM(lstm_dim)(embedding_c1)\n",
    "\n",
    "# Input untuk c2\n",
    "input_c2 = Input(shape=(max_length,))\n",
    "embedding_c2 = Embedding(vocab_size, embedding_dim)(input_c2)\n",
    "lstm_c2 = LSTM(lstm_dim)(embedding_c2)\n",
    "\n",
    "# Input untuk c1_context\n",
    "input_c1_context = Input(shape=(max_length,))\n",
    "embedding_c1_context = Embedding(vocab_size, embedding_dim)(input_c1_context)\n",
    "lstm_c1_context = LSTM(lstm_dim)(embedding_c1_context)\n",
    "\n",
    "# Input untuk c2_context\n",
    "input_c2_context = Input(shape=(max_length,))\n",
    "embedding_c2_context = Embedding(vocab_size, embedding_dim)(input_c2_context)\n",
    "lstm_c2_context = LSTM(lstm_dim)(embedding_c2_context)\n",
    "\n",
    "# Gabungkan hasil embedding dari c1, c2, c1_context, dan c2_context\n",
    "merged = Concatenate()([lstm_c1, lstm_c2, lstm_c1_context, lstm_c2_context])\n",
    "\n",
    "# Fully connected Dense layer\n",
    "dense = Dense(64, activation='relu')(merged)\n",
    "\n",
    "# Dropout untuk regularisasi\n",
    "dropout = Dropout(0.5)(dense)\n",
    "\n",
    "# Output layer untuk binary classification\n",
    "output = Dense(1, activation='sigmoid')(dropout)\n",
    "\n",
    "# Membangun dan menggabungkan model\n",
    "model = tf.keras.Model(inputs=[input_c1, input_c2, input_c1_context, input_c2_context], outputs=output)\n",
    "\n",
    "# Callback Early Stopping\n",
    "early_stopping = EarlyStopping(monitor='val_loss', patience=3, restore_best_weights=True)\n",
    "\n",
    "# Kompilasi model\n",
    "model.compile(optimizer='adam', loss='binary_crossentropy', metrics=['accuracy'])\n",
    "\n",
    "# Melihat ringkasan model\n",
    "model.summary()\n",
    "\n",
    "# Melatih model\n",
    "history = model.fit([X_train_c1, X_train_c2, X_train_c1_context, X_train_c2_context], y_train, epochs=10, batch_size=32,\n",
    "                    validation_data=([X_test_c1, X_test_c2, X_test_c1_context, X_test_c2_context], y_test), callbacks=[early_stopping])\n",
    "\n",
    "# Evaluasi model\n",
    "test_loss, test_acc = model.evaluate([X_test_c1, X_test_c2, X_test_c1_context, X_test_c2_context], y_test)\n",
    "print(f'Test Accuracy: {test_acc}')"
   ]
  },
  {
   "cell_type": "code",
   "execution_count": 23,
   "metadata": {},
   "outputs": [
    {
     "data": {
      "image/png": "[encoded data removed]",
      "text/plain": [
       "<Figure size 640x480 with 1 Axes>"
      ]
     },
     "metadata": {},
     "output_type": "display_data"
    },
    {
     "data": {
      "image/png": "[encoded data removed]",
      "text/plain": [
       "<Figure size 640x480 with 1 Axes>"
      ]
     },
     "metadata": {},
     "output_type": "display_data"
    }
   ],
   "source": [
    "import matplotlib.pyplot as plt\n",
    "\n",
    "# Plot training & validation accuracy values\n",
    "plt.plot(history.history['accuracy'])\n",
    "plt.plot(history.history['val_accuracy'])\n",
    "plt.title('Model accuracy')\n",
    "plt.ylabel('Accuracy')\n",
    "plt.xlabel('Epoch')\n",
    "plt.legend(['Train', 'Validation'], loc='upper left')\n",
    "plt.show()\n",
    "\n",
    "# Plot training & validation loss values\n",
    "plt.plot(history.history['loss'])\n",
    "plt.plot(history.history['val_loss'])\n",
    "plt.title('Model loss')\n",
    "plt.ylabel('Loss')\n",
    "plt.xlabel('Epoch')\n",
    "plt.legend(['Train', 'Validation'], loc='upper left')\n",
    "plt.show()\n"
   ]
  }
 ],
 "metadata": {
  "kernelspec": {
   "display_name": "company-matching",
   "language": "python",
   "name": "python3"
  },
  "language_info": {
   "codemirror_mode": {
    "name": "ipython",
    "version": 3
   },
   "file_extension": ".py",
   "mimetype": "text/x-python",
   "name": "python",
   "nbconvert_exporter": "python",
   "pygments_lexer": "ipython3",
   "version": "3.10.14"
  }
 },
 "nbformat": 4,
 "nbformat_minor": 2
}
