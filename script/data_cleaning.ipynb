{
 "cells": [
  {
   "cell_type": "code",
   "execution_count": 92,
   "metadata": {},
   "outputs": [],
   "source": [
    "import csv\n",
    "import json\n",
    "import pandas as pd\n",
    "import sys"
   ]
  },
  {
   "cell_type": "markdown",
   "metadata": {},
   "source": [
    "# Clean Non-Pair"
   ]
  },
  {
   "cell_type": "code",
   "execution_count": null,
   "metadata": {},
   "outputs": [],
   "source": [
    "final_data_nonpair = pd.read_json('../data/data_context/final_data_nonpair.jsonl', lines=True)"
   ]
  },
  {
   "cell_type": "code",
   "execution_count": null,
   "metadata": {},
   "outputs": [],
   "source": [
    "# Remove c1_context dan c2_context yang sama\n",
    "final_data_nonpair = final_data_nonpair[final_data_nonpair['c1_context'] != final_data_nonpair['c2_context']]\n",
    "\n",
    "# Remove Whitespace in all column (awal kalimat)\n",
    "final_data_nonpair = final_data_nonpair.apply(lambda x: x.str.lstrip() if x.dtype == \"object\" else x)"
   ]
  },
  {
   "cell_type": "markdown",
   "metadata": {},
   "source": [
    "## Save Non-Pair"
   ]
  },
  {
   "cell_type": "code",
   "execution_count": null,
   "metadata": {},
   "outputs": [],
   "source": [
    "final_data_nonpair.to_json('../data/data_context/final_data_nonpair.jsonl', orient='records', lines=True)"
   ]
  },
  {
   "cell_type": "markdown",
   "metadata": {},
   "source": [
    "# Clean Pair\n",
    "Dataset pair (Match) banyak yang context c1 dan c2 nya sama, perlu diubah."
   ]
  },
  {
   "cell_type": "code",
   "execution_count": 97,
   "metadata": {},
   "outputs": [],
   "source": [
    "# Ambil raw match pair dataset\n",
    "pair_temp = pd.read_json('../data/data_context/final_data_pair.jsonl', lines=True)\n",
    "\n",
    "# Remove Whitespace in all column\n",
    "pair_temp = pair_temp.apply(lambda x: x.str.strip() if x.dtype == \"object\" else x)\n",
    "\n",
    "# Mengganti nilai 'Match1' menjadi 'Non-Match'\n",
    "pair_temp['match_type'] = pair_temp['match_type'].replace('Match1', 'Non-Match')"
   ]
  },
  {
   "cell_type": "code",
   "execution_count": 98,
   "metadata": {},
   "outputs": [],
   "source": [
    "pair_temp.to_json('../data/data_context/final_data_pair.jsonl', orient='records', lines=True)"
   ]
  },
  {
   "cell_type": "code",
   "execution_count": 90,
   "metadata": {},
   "outputs": [],
   "source": [
    "# IF sudah progress\n",
    "pair_temp = pd.read_json('../data/data_context/final_data_pair.jsonl', lines=True)"
   ]
  },
  {
   "cell_type": "code",
   "execution_count": null,
   "metadata": {},
   "outputs": [],
   "source": [
    "# # Fungsi untuk menampilkan grup c1 di mana hanya ada satu baris yang c1_context == c2_context\n",
    "# def show_single_matching_context(df):\n",
    "#     # Filter baris di mana c1_context sama dengan c2_context\n",
    "#     matching_rows = df[df['c1_context'] == df['c2_context']]\n",
    "\n",
    "#     # Group by c1 dan hanya pilih grup yang memiliki 1 baris saja\n",
    "#     matching_1_or_2 = matching_rows.groupby('c1').filter(lambda x: 1 <= len(x) <= 2)\n",
    "\n",
    "#     # Tampilkan hasilnya\n",
    "#     print(matching_1_or_2)\n",
    "\n",
    "# show_single_matching_context(pair_temp)"
   ]
  },
  {
   "cell_type": "code",
   "execution_count": 99,
   "metadata": {},
   "outputs": [
    {
     "name": "stdout",
     "output_type": "stream",
     "text": [
      "Baris dengan c1 = 'spanair':\n",
      "           c1                                         c1_context  \\\n",
      "8436  spanair  Spanair S.A. was a Spanish airline, with its h...   \n",
      "8437  spanair  Spanair S.A. was a Spanish airline, with its h...   \n",
      "8438  spanair  Spanair S.A. was a Spanish airline, with its h...   \n",
      "8439  spanair  Spanair S.A. was a Spanish airline, with its h...   \n",
      "\n",
      "                  c2                                         c2_context  \\\n",
      "8436        Span Air  SpanAir brings to you, our esteemed customer, ...   \n",
      "8437    Spanair S.A.  Spanair S.A. operates as an airline company in...   \n",
      "8438  Span Air Lines  Spanair S.A. was a Spanish airline, with its h...   \n",
      "8439         Spamair  Spanair SA was a Spanish airline, with its hea...   \n",
      "\n",
      "     match_type  \n",
      "8436      Match  \n",
      "8437      Match  \n",
      "8438      Match  \n",
      "8439      Match  \n",
      "c1_context untuk c1 'spanair' telah diubah menjadi 'Spanair was a Spanish airline that operated from 1986 until 2012. Based in Barcelona, Spanair primarily served domestic and international routes, focusing on providing affordable air travel within Spain and to various European destinations.'\n",
      "\n",
      "Perubahan telah disimpan ke file jsonl final_data_pair\n",
      "Baris dengan c1 = 'aegon nederland':\n",
      "                    c1                                         c1_context  \\\n",
      "10584  aegon nederland  AEGON\\r\\nNederland NV provides financial servi...   \n",
      "10585  aegon nederland  AEGON\\r\\nNederland NV provides financial servi...   \n",
      "10586  aegon nederland  AEGON\\r\\nNederland NV provides financial servi...   \n",
      "10587  aegon nederland  AEGON\\r\\nNederland NV provides financial servi...   \n",
      "10588  aegon nederland  AEGON\\r\\nNederland NV provides financial servi...   \n",
      "10589  aegon nederland  AEGON\\r\\nNederland NV provides financial servi...   \n",
      "\n",
      "                     c2                                         c2_context  \\\n",
      "10584             Aegon  Aegon Ltd\\r\\n(Aegon) is a provider of pension ...   \n",
      "10585          Aegon NV  Aegon Ltd\\r\\n(Aegon) is a provider of pension ...   \n",
      "10586         Aegon NLD  AEGON Nederland NV provides financial services...   \n",
      "10587  Aegaon Nederland  AEGON\\r\\nNederland NV provides financial servi...   \n",
      "10588   Ageon Nederland  AEGON\\r\\nNederland NV provides financial servi...   \n",
      "10589    Egon Nederland  Aegon has operated for 175 years in the Nether...   \n",
      "\n",
      "      match_type  \n",
      "10584      Match  \n",
      "10585      Match  \n",
      "10586      Match  \n",
      "10587      Match  \n",
      "10588      Match  \n",
      "10589      Match  \n",
      "c1_context untuk c1 'aegon nederland' telah diubah menjadi 'Aegon Nederland is an insurance firm that provides financial facilities like smart savings, pension, investment and income plans services.'\n",
      "\n",
      "Perubahan telah disimpan ke file jsonl final_data_pair\n",
      "Baris dengan c1 = 'aegon nederland':\n",
      "                    c1                                         c1_context  \\\n",
      "10584  aegon nederland  Aegon Nederland is an insurance firm that prov...   \n",
      "10585  aegon nederland  Aegon Nederland is an insurance firm that prov...   \n",
      "10586  aegon nederland  Aegon Nederland is an insurance firm that prov...   \n",
      "10587  aegon nederland  Aegon Nederland is an insurance firm that prov...   \n",
      "10588  aegon nederland  Aegon Nederland is an insurance firm that prov...   \n",
      "10589  aegon nederland  Aegon Nederland is an insurance firm that prov...   \n",
      "\n",
      "                     c2                                         c2_context  \\\n",
      "10584             Aegon  Aegon Ltd\\r\\n(Aegon) is a provider of pension ...   \n",
      "10585          Aegon NV  Aegon Ltd\\r\\n(Aegon) is a provider of pension ...   \n",
      "10586         Aegon NLD  AEGON Nederland NV provides financial services...   \n",
      "10587  Aegaon Nederland  AEGON\\r\\nNederland NV provides financial servi...   \n",
      "10588   Ageon Nederland  AEGON\\r\\nNederland NV provides financial servi...   \n",
      "10589    Egon Nederland  Aegon has operated for 175 years in the Nether...   \n",
      "\n",
      "      match_type  \n",
      "10584      Match  \n",
      "10585      Match  \n",
      "10586      Match  \n",
      "10587      Match  \n",
      "10588      Match  \n",
      "10589      Match  \n",
      "c1_context untuk c1 'aegon nederland' telah diubah menjadi ' Aegon Nederland is a prominent financial services company based in the Netherlands, part of the larger Aegon Group, which operates internationally. Founded in 1983, Aegon Nederland specializes in providing a range of financial products and services.'\n",
      "\n",
      "Perubahan telah disimpan ke file jsonl final_data_pair\n",
      "Baris dengan c1 = 'trafigura':\n",
      "              c1                                         c1_context  \\\n",
      "10590  trafigura  Trafigura is the third-largest physical commod...   \n",
      "10591  trafigura  Trafigura is the third-largest physical commod...   \n",
      "10592  trafigura  Trafigura is the third-largest physical commod...   \n",
      "10593  trafigura  Trafigura is the third-largest physical commod...   \n",
      "\n",
      "                 c2                                         c2_context  \\\n",
      "10590  Trafigura AG  Trafigura AG is a wholly owned subsidiary of T...   \n",
      "10591     Trafiqura  Trafigura is the third-largest physical commod...   \n",
      "10592     Trrafiura  Trafigura is the third-largest physical commod...   \n",
      "10593     Trifigura  Trafigura is one of the world's largest vessel...   \n",
      "\n",
      "      match_type  \n",
      "10590      Match  \n",
      "10591      Match  \n",
      "10592      Match  \n",
      "10593  Non-Match  \n",
      "c1_context untuk c1 'trafigura' telah diubah menjadi 'Trafigura is a commodity trading company that facilitates the distribution of commodities such as metals, minerals, and energy.'\n",
      "\n",
      "Perubahan telah disimpan ke file jsonl final_data_pair\n",
      "Baris dengan c1 = 'trafigura':\n",
      "              c1                                         c1_context  \\\n",
      "10590  trafigura  Trafigura is a commodity trading company that ...   \n",
      "10591  trafigura  Trafigura is a commodity trading company that ...   \n",
      "10592  trafigura  Trafigura is a commodity trading company that ...   \n",
      "10593  trafigura  Trafigura is a commodity trading company that ...   \n",
      "\n",
      "                 c2                                         c2_context  \\\n",
      "10590  Trafigura AG  Trafigura AG is a wholly owned subsidiary of T...   \n",
      "10591     Trafiqura  Trafigura is the third-largest physical commod...   \n",
      "10592     Trrafiura  Trafigura is the third-largest physical commod...   \n",
      "10593     Trifigura  Trafigura is one of the world's largest vessel...   \n",
      "\n",
      "      match_type  \n",
      "10590      Match  \n",
      "10591      Match  \n",
      "10592      Match  \n",
      "10593  Non-Match  \n",
      "c1_context untuk c1 'trafigura' telah diubah menjadi 'Vopak is an independent tank storage company, stores and handles oil products, chemicals, liquefied petroleum and natural gases, biofuels.'\n",
      "\n",
      "Perubahan telah disimpan ke file jsonl final_data_pair\n",
      "Baris dengan c1 = 'vopak':\n",
      "          c1                                         c1_context           c2  \\\n",
      "10594  vopak  Around the clock and at ports around the world...         Vopk   \n",
      "10595  vopak  Around the clock and at ports around the world...     Vopak NV   \n",
      "10596  vopak  Around the clock and at ports around the world...         Voak   \n",
      "10597  vopak  Around the clock and at ports around the world...       Vopack   \n",
      "10598  vopak  Around the clock and at ports around the world...          Vpk   \n",
      "10599  vopak  Around the clock and at ports around the world...  Vopack N.V.   \n",
      "10600  vopak  Around the clock and at ports around the world...       Voplay   \n",
      "\n",
      "                                              c2_context match_type  \n",
      "10594  Around the clock and at ports around the world...      Match  \n",
      "10595  Company Information\\r\\nKoninklijke Vopak NV\\r\\...      Match  \n",
      "10596  Voak Construction is a General Contractor that...      Match  \n",
      "10597  Around the clock and at ports around the world...      Match  \n",
      "10598  VPK Group is a Belgian paper and cardboard com...  Non-Match  \n",
      "10599  Company Information\\r\\nKoninklijke Vopak NV\\r\\...      Match  \n",
      "10600  Play Voplay on SoundCloud and discover followe...  Non-Match  \n",
      "Program dihentikan.\n"
     ]
    },
    {
     "ename": "SystemExit",
     "evalue": "",
     "output_type": "error",
     "traceback": [
      "An exception has occurred, use %tb to see the full traceback.\n",
      "\u001b[1;31mSystemExit\u001b[0m\n"
     ]
    },
    {
     "name": "stderr",
     "output_type": "stream",
     "text": [
      "d:\\Fauzan\\anaconda3\\envs\\company-matching\\lib\\site-packages\\IPython\\core\\interactiveshell.py:3585: UserWarning: To exit: use 'exit', 'quit', or Ctrl-D.\n",
      "  warn(\"To exit: use 'exit', 'quit', or Ctrl-D.\", stacklevel=1)\n"
     ]
    }
   ],
   "source": [
    "def update_c1_context(df):\n",
    "    \"\"\"\n",
    "    Fungsi untuk menampilkan baris dengan c1 yang sama ketika c1_context == c2_context, dan mengubah c1_context\n",
    "    \"\"\"\n",
    "    for index, row in df.iterrows():\n",
    "        # Cek apakah c1_context sama dengan c2_context\n",
    "        if row['c1_context'] == row['c2_context']:\n",
    "            c1_value = row['c1']\n",
    "            \n",
    "            # Tampilkan semua baris yang memiliki nilai c1 yang sama\n",
    "            matching_c1 = df[df['c1'] == c1_value]\n",
    "            print(f\"Baris dengan c1 = '{c1_value}':\")\n",
    "            print(matching_c1)\n",
    "\n",
    "            # Loop sampai pengguna memasukkan nilai yang tidak lagi sama antara c1_context dan c2_context\n",
    "            while True:\n",
    "                # Buat input box untuk mengubah c1_context, dan deteksi jika pengguna ingin keluar dengan mengetik 'exit'\n",
    "                new_c1_context = input(f\"Masukkan nilai baru untuk c1_context '{row['c1_context']}' atau ketik 'exit' untuk keluar: \")\n",
    "\n",
    "                # Jika pengguna mengetik 'exit', keluar dari loop dan program\n",
    "                if new_c1_context.lower() == 'exit':\n",
    "                    print(\"Program dihentikan.\")\n",
    "                    sys.exit()\n",
    "\n",
    "                # Update sementara untuk mengecek apakah perubahan menyelesaikan kesamaan\n",
    "                df.loc[df['c1'] == c1_value, 'c1_context'] = new_c1_context\n",
    "\n",
    "                # Update ulang matching_c1 dengan data terbaru setelah perubahan\n",
    "                matching_c1 = df[df['c1'] == c1_value]\n",
    "\n",
    "                # Cek ulang apakah masih ada kesamaan antara c1_context dan c2_context setelah perubahan\n",
    "                still_matching = matching_c1[matching_c1['c1_context'] == matching_c1['c2_context']]\n",
    "\n",
    "                # Jika masih ada kesamaan, beri tahu pengguna dan minta input ulang\n",
    "                if not still_matching.empty:\n",
    "                    print(\"Masih ada kesamaan context, masukkan nilai lain.\")\n",
    "                else:\n",
    "                    # Jika tidak ada lagi kesamaan, keluar dari loop dan simpan perubahan\n",
    "                    print(f\"c1_context untuk c1 '{c1_value}' telah diubah menjadi '{new_c1_context}'\\n\")\n",
    "\n",
    "                    # Simpan perubahan\n",
    "                    df.to_json('../data/data_context/final_data_pair.jsonl', orient='records', lines=True)\n",
    "                    print(f\"Perubahan telah disimpan ke file jsonl final_data_pair\")\n",
    "                    break\n",
    "\n",
    "    print(\"Proses selesai.\")\n",
    "\n",
    "# Memanggil fungsi untuk mengupdate c1_context di nonpair_temp\n",
    "update_c1_context(pair_temp)\n"
   ]
  },
  {
   "cell_type": "markdown",
   "metadata": {},
   "source": [
    "## Save Pair"
   ]
  },
  {
   "cell_type": "code",
   "execution_count": null,
   "metadata": {},
   "outputs": [],
   "source": [
    "nonpair_temp.to_json('../data/data_context/final_data_pair.jsonl', orient='records', lines=True)"
   ]
  }
 ],
 "metadata": {
  "kernelspec": {
   "display_name": "company-matching",
   "language": "python",
   "name": "python3"
  },
  "language_info": {
   "codemirror_mode": {
    "name": "ipython",
    "version": 3
   },
   "file_extension": ".py",
   "mimetype": "text/x-python",
   "name": "python",
   "nbconvert_exporter": "python",
   "pygments_lexer": "ipython3",
   "version": "3.10.14"
  }
 },
 "nbformat": 4,
 "nbformat_minor": 2
}
